{
  "nbformat": 4,
  "nbformat_minor": 0,
  "metadata": {
    "colab": {
      "name": "Untitled1.ipynb",
      "provenance": [],
      "authorship_tag": "ABX9TyP4O0ITaEY5OTAkZYJ1/+kk",
      "include_colab_link": true
    },
    "kernelspec": {
      "name": "python3",
      "display_name": "Python 3"
    },
    "language_info": {
      "name": "python"
    }
  },
  "cells": [
    {
      "cell_type": "markdown",
      "metadata": {
        "id": "view-in-github",
        "colab_type": "text"
      },
      "source": [
        "<a href=\"https://colab.research.google.com/github/TrekkerVikk/Trishaan/blob/main/Untitled1.ipynb\" target=\"_parent\"><img src=\"https://colab.research.google.com/assets/colab-badge.svg\" alt=\"Open In Colab\"/></a>"
      ]
    },
    {
      "cell_type": "code",
      "metadata": {
        "colab": {
          "base_uri": "https://localhost:8080/"
        },
        "id": "s9RnJnvwsaBV",
        "outputId": "35f4040a-58bf-46df-83a3-d76752ef9311"
      },
      "source": [
        "# Create first tuple\n",
        "\n",
        "tuple1 = (\"disco\",10,1.2 )\n",
        "tuple1"
      ],
      "execution_count": 1,
      "outputs": [
        {
          "output_type": "execute_result",
          "data": {
            "text/plain": [
              "('disco', 10, 1.2)"
            ]
          },
          "metadata": {
            "tags": []
          },
          "execution_count": 1
        }
      ]
    },
    {
      "cell_type": "code",
      "metadata": {
        "colab": {
          "base_uri": "https://localhost:8080/"
        },
        "id": "vLdzX3Ihs0Tm",
        "outputId": "eab27ca7-ddb0-4dc3-adbd-7c7cb39a4f30"
      },
      "source": [
        "# print type of the tuple you created\n",
        "\n",
        "type(tuple1)"
      ],
      "execution_count": 2,
      "outputs": [
        {
          "output_type": "execute_result",
          "data": {
            "text/plain": [
              "tuple"
            ]
          },
          "metadata": {
            "tags": []
          },
          "execution_count": 2
        }
      ]
    },
    {
      "cell_type": "code",
      "metadata": {
        "colab": {
          "base_uri": "https://localhost:8080/"
        },
        "id": "yazs7RNStH1I",
        "outputId": "560d2538-7d18-4518-cf66-45f537ff86b6"
      },
      "source": [
        "# print variable on each index\n",
        "\n",
        "print(tuple1[0])\n",
        "print(tuple1[1])\n",
        "print(tuple1[2])\n"
      ],
      "execution_count": 3,
      "outputs": [
        {
          "output_type": "stream",
          "text": [
            "disco\n",
            "10\n",
            "1.2\n"
          ],
          "name": "stdout"
        }
      ]
    },
    {
      "cell_type": "code",
      "metadata": {
        "colab": {
          "base_uri": "https://localhost:8080/"
        },
        "id": "38tNb46lt9Ty",
        "outputId": "537a86a9-efdd-4f7c-a524-5a9ae2a88d13"
      },
      "source": [
        "# Print type of value on each index\n",
        "\n",
        "# print(type(tuple1[0]))\n",
        "# print(type(tuple1[1]))\n",
        "print(type(tuple1[2]))"
      ],
      "execution_count": 4,
      "outputs": [
        {
          "output_type": "stream",
          "text": [
            "<class 'float'>\n"
          ],
          "name": "stdout"
        }
      ]
    },
    {
      "cell_type": "code",
      "metadata": {
        "colab": {
          "base_uri": "https://localhost:8080/"
        },
        "id": "hBSoSPJmyMVt",
        "outputId": "5c1552e5-f0f8-48b3-c936-35ebb86639ac"
      },
      "source": [
        "# use negative index to get the value of the last element\n",
        "\n",
        "tuple1[-1]"
      ],
      "execution_count": 6,
      "outputs": [
        {
          "output_type": "execute_result",
          "data": {
            "text/plain": [
              "1.2"
            ]
          },
          "metadata": {
            "tags": []
          },
          "execution_count": 6
        }
      ]
    },
    {
      "cell_type": "code",
      "metadata": {
        "colab": {
          "base_uri": "https://localhost:8080/"
        },
        "id": "3szDSfzyyxwi",
        "outputId": "6452fdbb-80f0-4af7-c784-f66c76921043"
      },
      "source": [
        "# Use negative index to get the value of the second last element\n",
        "\n",
        "tuple1[-2]"
      ],
      "execution_count": 7,
      "outputs": [
        {
          "output_type": "execute_result",
          "data": {
            "text/plain": [
              "10"
            ]
          },
          "metadata": {
            "tags": []
          },
          "execution_count": 7
        }
      ]
    },
    {
      "cell_type": "code",
      "metadata": {
        "colab": {
          "base_uri": "https://localhost:8080/",
          "height": 36
        },
        "id": "ZA5jzMuUzJDo",
        "outputId": "f6d312f2-b102-4ed7-febf-6ed4ccc6917c"
      },
      "source": [
        "# Use the negative index to get the value of third last element\n",
        "\n",
        "tuple1[-3]"
      ],
      "execution_count": 9,
      "outputs": [
        {
          "output_type": "execute_result",
          "data": {
            "application/vnd.google.colaboratory.intrinsic+json": {
              "type": "string"
            },
            "text/plain": [
              "'disco'"
            ]
          },
          "metadata": {
            "tags": []
          },
          "execution_count": 9
        }
      ]
    },
    {
      "cell_type": "code",
      "metadata": {
        "id": "4m6FdR9SzXu6"
      },
      "source": [
        "## Concatenate Tuples"
      ],
      "execution_count": 12,
      "outputs": []
    },
    {
      "cell_type": "markdown",
      "metadata": {
        "id": "9akqTcgMzclW"
      },
      "source": [
        ""
      ]
    },
    {
      "cell_type": "code",
      "metadata": {
        "colab": {
          "base_uri": "https://localhost:8080/"
        },
        "id": "MXOuoXBT_Ji2",
        "outputId": "e8ee3050-4fe5-4d87-c7f3-e6d5642087ef"
      },
      "source": [
        "[ ] # Concatenate two tuples\n",
        "\n",
        "tuple2 = tuple1 + (\"hard rock\", 10)\n",
        "tuple2"
      ],
      "execution_count": 15,
      "outputs": [
        {
          "output_type": "execute_result",
          "data": {
            "text/plain": [
              "('disco', 10, 1.2, 'hard rock', 10)"
            ]
          },
          "metadata": {
            "tags": []
          },
          "execution_count": 15
        }
      ]
    },
    {
      "cell_type": "markdown",
      "metadata": {
        "id": "7hrzHSKAOUxl"
      },
      "source": [
        "Slicing"
      ]
    },
    {
      "cell_type": "code",
      "metadata": {
        "colab": {
          "base_uri": "https://localhost:8080/"
        },
        "id": "jIVdPRPOOfIl",
        "outputId": "68894df9-79e9-4bc1-fa54-350df3342c54"
      },
      "source": [
        "[ ] # Slice from indes 0 to index 2\n",
        "\n",
        "tuple2[0:2]"
      ],
      "execution_count": 17,
      "outputs": [
        {
          "output_type": "execute_result",
          "data": {
            "text/plain": [
              "('disco', 10)"
            ]
          },
          "metadata": {
            "tags": []
          },
          "execution_count": 17
        }
      ]
    },
    {
      "cell_type": "code",
      "metadata": {
        "colab": {
          "base_uri": "https://localhost:8080/",
          "height": 135
        },
        "id": "XvdrKQ8LOtwa",
        "outputId": "3c508392-6fef-42d5-efb9-e4a4bdd5723d"
      },
      "source": [
        "[] tu = (\"a\", \"b\", \"c\", \"d\")\n",
        "\n",
        "    #      0    1    2     3"
      ],
      "execution_count": 22,
      "outputs": [
        {
          "output_type": "error",
          "ename": "SyntaxError",
          "evalue": "ignored",
          "traceback": [
            "\u001b[0;36m  File \u001b[0;32m\"<ipython-input-22-dda85f23ca53>\"\u001b[0;36m, line \u001b[0;32m1\u001b[0m\n\u001b[0;31m    [] tu = (\"a\", \"b\", \"c\", \"d\")\u001b[0m\n\u001b[0m        ^\u001b[0m\n\u001b[0;31mSyntaxError\u001b[0m\u001b[0;31m:\u001b[0m invalid syntax\n"
          ]
        }
      ]
    },
    {
      "cell_type": "code",
      "metadata": {
        "colab": {
          "base_uri": "https://localhost:8080/"
        },
        "id": "CMB1A1w-PLgY",
        "outputId": "c050aab6-7664-42b3-9c50-b9a06da996e7"
      },
      "source": [
        "  { } # Slice from index 3 to index 4\n",
        "\n",
        "  tuple2[3:5] #3 & 4"
      ],
      "execution_count": 23,
      "outputs": [
        {
          "output_type": "execute_result",
          "data": {
            "text/plain": [
              "('hard rock', 10)"
            ]
          },
          "metadata": {
            "tags": []
          },
          "execution_count": 23
        }
      ]
    },
    {
      "cell_type": "code",
      "metadata": {
        "colab": {
          "base_uri": "https://localhost:8080/",
          "height": 209
        },
        "id": "DaQlquBoTbtt",
        "outputId": "da1a8191-4ce7-4071-f7fd-294665c82ef9"
      },
      "source": [
        "[ ] #Get the length of the tuple\n",
        "\n",
        "len(tuple3)"
      ],
      "execution_count": 5,
      "outputs": [
        {
          "output_type": "error",
          "ename": "NameError",
          "evalue": "ignored",
          "traceback": [
            "\u001b[0;31m---------------------------------------------------------------------------\u001b[0m",
            "\u001b[0;31mNameError\u001b[0m                                 Traceback (most recent call last)",
            "\u001b[0;32m<ipython-input-5-ecc1f79d63b4>\u001b[0m in \u001b[0;36m<module>\u001b[0;34m()\u001b[0m\n\u001b[1;32m      1\u001b[0m \u001b[0;34m[\u001b[0m \u001b[0;34m]\u001b[0m \u001b[0;31m#Get the length of the tuple\u001b[0m\u001b[0;34m\u001b[0m\u001b[0;34m\u001b[0m\u001b[0m\n\u001b[1;32m      2\u001b[0m \u001b[0;34m\u001b[0m\u001b[0m\n\u001b[0;32m----> 3\u001b[0;31m \u001b[0mlen\u001b[0m\u001b[0;34m(\u001b[0m\u001b[0mtuple3\u001b[0m\u001b[0;34m)\u001b[0m\u001b[0;34m\u001b[0m\u001b[0;34m\u001b[0m\u001b[0m\n\u001b[0m",
            "\u001b[0;31mNameError\u001b[0m: name 'tuple3' is not defined"
          ]
        }
      ]
    },
    {
      "cell_type": "markdown",
      "metadata": {
        "id": "p1kERfjPoWJP"
      },
      "source": [
        "*Sorting*\n"
      ]
    },
    {
      "cell_type": "code",
      "metadata": {
        "id": "au8pep5poiU7"
      },
      "source": [
        "[ ] # A sample tuple\n",
        "\n",
        "Ratings = (0, 9, 6, 5, 10, 8, 9, 6, 2)"
      ],
      "execution_count": 7,
      "outputs": []
    },
    {
      "cell_type": "code",
      "metadata": {
        "id": "Ik8LXVE9o2QB",
        "outputId": "84a7948f-f13c-4ff5-bf12-cb3c2d6dee72",
        "colab": {
          "base_uri": "https://localhost:8080/"
        }
      },
      "source": [
        "[ ] # Sort the tuple\n",
        "\n",
        "RatingSorted = sorted(Ratings)\n",
        "RatingSorted"
      ],
      "execution_count": 8,
      "outputs": [
        {
          "output_type": "execute_result",
          "data": {
            "text/plain": [
              "[0, 2, 5, 6, 6, 8, 9, 9, 10]"
            ]
          },
          "metadata": {
            "tags": []
          },
          "execution_count": 8
        }
      ]
    },
    {
      "cell_type": "markdown",
      "metadata": {
        "id": "X674Ix9fpMyB"
      },
      "source": [
        "**Nested Tuple**"
      ]
    },
    {
      "cell_type": "code",
      "metadata": {
        "id": "tknW0wMmpUh1",
        "outputId": "a623be80-86ef-4a89-cc10-db2aef4d9460",
        "colab": {
          "base_uri": "https://localhost:8080/"
        }
      },
      "source": [
        "[ ] # Create a nest tuple\n",
        "\n",
        "NestedT =(1, 2, (\"pop\", \"rock\") , (3,4),(\"disco\",(1,2)))\n",
        "NestedT[4][1][1]"
      ],
      "execution_count": 9,
      "outputs": [
        {
          "output_type": "execute_result",
          "data": {
            "text/plain": [
              "2"
            ]
          },
          "metadata": {
            "tags": []
          },
          "execution_count": 9
        }
      ]
    },
    {
      "cell_type": "code",
      "metadata": {
        "id": "rEAjhdR0qCFp",
        "outputId": "0e936f9f-45d4-405f-bb1f-c8d7314e5118",
        "colab": {
          "base_uri": "https://localhost:8080/"
        }
      },
      "source": [
        "[ ] # print element on each index\n",
        "\n",
        "# print(\"Element 0 of Tuple:\", NestedT[0])\n",
        "# print(\"Element 1 of Tuple:\", NestedT[1])\n",
        "# print(\"Element 2 of Tuple:\", NestedT[2])\n",
        "# print(\"Element 3 of Tuple:\", NestedT[3])\n",
        "print(\"Element 4 of Tuple:\", NestedT[4][1][1])"
      ],
      "execution_count": 10,
      "outputs": [
        {
          "output_type": "stream",
          "text": [
            "Element 4 of Tuple: 2\n"
          ],
          "name": "stdout"
        }
      ]
    },
    {
      "cell_type": "code",
      "metadata": {
        "id": "K-Kql7eBrld1",
        "outputId": "00e0723f-28f7-4adf-f4be-1ede6759d5f4",
        "colab": {
          "base_uri": "https://localhost:8080/"
        }
      },
      "source": [
        "[ ] # print element on each index, inculding nest indexes\n",
        "\n",
        "print(\"Element 2, 0 of Tuple:\", NestedT[2][0])\n",
        "print(\"Element 2, 1 of Tuple:\", NestedT[2][1])\n",
        "print(\"Element 3, 0 of Tuple:\", NestedT[3][0])\n",
        "print(\"Element 3, 1 of Tuple:\", NestedT[3][1])\n",
        "print(\"Element 4, 0 of Tuple:\", NestedT[4][0])\n",
        "print(\"Element 4, 1 of Tuple:\", NestedT[4][1])"
      ],
      "execution_count": 11,
      "outputs": [
        {
          "output_type": "stream",
          "text": [
            "Element 2, 0 of Tuple: pop\n",
            "Element 2, 1 of Tuple: rock\n",
            "Element 3, 0 of Tuple: 3\n",
            "Element 3, 1 of Tuple: 4\n",
            "Element 4, 0 of Tuple: disco\n",
            "Element 4, 1 of Tuple: (1, 2)\n"
          ],
          "name": "stdout"
        }
      ]
    },
    {
      "cell_type": "code",
      "metadata": {
        "id": "BxftvALpuBtS",
        "outputId": "4e76bec6-9e58-4b64-a0b1-61dc0e8dbcfc",
        "colab": {
          "base_uri": "https://localhost:8080/",
          "height": 36
        }
      },
      "source": [
        "[ ] #Print teh first elemenet in the second nested tuples\n",
        "\n",
        "NestedT[2][1][0]"
      ],
      "execution_count": 12,
      "outputs": [
        {
          "output_type": "execute_result",
          "data": {
            "application/vnd.google.colaboratory.intrinsic+json": {
              "type": "string"
            },
            "text/plain": [
              "'r'"
            ]
          },
          "metadata": {
            "tags": []
          },
          "execution_count": 12
        }
      ]
    },
    {
      "cell_type": "code",
      "metadata": {
        "id": "iN0hLN4FurR0",
        "outputId": "397ef5d2-94e8-4039-87cc-125c02b0862d",
        "colab": {
          "base_uri": "https://localhost:8080/",
          "height": 36
        }
      },
      "source": [
        "[ ] # print the second element in the second nested tuples\n",
        "\n",
        "NestedT[2][1][1]"
      ],
      "execution_count": 13,
      "outputs": [
        {
          "output_type": "execute_result",
          "data": {
            "application/vnd.google.colaboratory.intrinsic+json": {
              "type": "string"
            },
            "text/plain": [
              "'o'"
            ]
          },
          "metadata": {
            "tags": []
          },
          "execution_count": 13
        }
      ]
    },
    {
      "cell_type": "code",
      "metadata": {
        "id": "WmbHbAIHvElm",
        "outputId": "b079eee2-77b0-4fb2-f9ba-a62df9cae23e",
        "colab": {
          "base_uri": "https://localhost:8080/"
        }
      },
      "source": [
        "[ ] # print the first element in the second nested tuples\n",
        "\n",
        "NestedT[4][1][0]"
      ],
      "execution_count": 15,
      "outputs": [
        {
          "output_type": "execute_result",
          "data": {
            "text/plain": [
              "1"
            ]
          },
          "metadata": {
            "tags": []
          },
          "execution_count": 15
        }
      ]
    },
    {
      "cell_type": "code",
      "metadata": {
        "id": "7VEzzKCnvg8g",
        "outputId": "56f39806-5a6b-462a-d782-e4120ca5306b",
        "colab": {
          "base_uri": "https://localhost:8080/"
        }
      },
      "source": [
        "[ ] # print the first element in the second nested tuples\n",
        "NestedT[4][1][1]"
      ],
      "execution_count": 16,
      "outputs": [
        {
          "output_type": "execute_result",
          "data": {
            "text/plain": [
              "2"
            ]
          },
          "metadata": {
            "tags": []
          },
          "execution_count": 16
        }
      ]
    },
    {
      "cell_type": "code",
      "metadata": {
        "id": "FHw21sYVvxQN",
        "outputId": "601dc5ac-d25e-49ed-b1d7-a1bf15676d9f",
        "colab": {
          "base_uri": "https://localhost:8080/"
        }
      },
      "source": [
        "# sample tuple\n",
        "\n",
        "genres_tuple = (\"pop\", \"rock\", \"soul\", \"hard rock\", \"soft rock\", \\\n",
        "                \"R&B\", \"progressive rock\", \"disco\") \n",
        "genres_tuple"
      ],
      "execution_count": 17,
      "outputs": [
        {
          "output_type": "execute_result",
          "data": {
            "text/plain": [
              "('pop',\n",
              " 'rock',\n",
              " 'soul',\n",
              " 'hard rock',\n",
              " 'soft rock',\n",
              " 'R&B',\n",
              " 'progressive rock',\n",
              " 'disco')"
            ]
          },
          "metadata": {
            "tags": []
          },
          "execution_count": 17
        }
      ]
    },
    {
      "cell_type": "code",
      "metadata": {
        "id": "lqpGKqf-v2oF",
        "outputId": "7415e894-14db-4b5a-8a89-979ba1e3a23b",
        "colab": {
          "base_uri": "https://localhost:8080/"
        }
      },
      "source": [
        "len(genres_tuple)"
      ],
      "execution_count": 19,
      "outputs": [
        {
          "output_type": "execute_result",
          "data": {
            "text/plain": [
              "8"
            ]
          },
          "metadata": {
            "tags": []
          },
          "execution_count": 19
        }
      ]
    },
    {
      "cell_type": "code",
      "metadata": {
        "id": "wznFRVGpv_zF"
      },
      "source": [
        ""
      ],
      "execution_count": null,
      "outputs": []
    }
  ]
}